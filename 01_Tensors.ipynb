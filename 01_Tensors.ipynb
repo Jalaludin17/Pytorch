{
  "nbformat": 4,
  "nbformat_minor": 0,
  "metadata": {
    "colab": {
      "provenance": [],
      "gpuType": "T4",
      "authorship_tag": "ABX9TyPOXOOm2eX0mdl70cEJNPMw",
      "include_colab_link": true
    },
    "kernelspec": {
      "name": "python3",
      "display_name": "Python 3"
    },
    "language_info": {
      "name": "python"
    },
    "accelerator": "GPU"
  },
  "cells": [
    {
      "cell_type": "markdown",
      "metadata": {
        "id": "view-in-github",
        "colab_type": "text"
      },
      "source": [
        "<a href=\"https://colab.research.google.com/github/Jalaludin17/Pytorch/blob/main/01_Tensors.ipynb\" target=\"_parent\"><img src=\"https://colab.research.google.com/assets/colab-badge.svg\" alt=\"Open In Colab\"/></a>"
      ]
    },
    {
      "cell_type": "markdown",
      "source": [
        "### 01_Torch"
      ],
      "metadata": {
        "id": "n4vErsAWAPGK"
      }
    },
    {
      "cell_type": "code",
      "execution_count": null,
      "metadata": {
        "colab": {
          "base_uri": "https://localhost:8080/"
        },
        "id": "HRUBeNi4AOHV",
        "outputId": "f7834d56-8bc7-47ce-bc11-df2f635f766f"
      },
      "outputs": [
        {
          "output_type": "stream",
          "name": "stdout",
          "text": [
            "2.8.0+cu126\n"
          ]
        }
      ],
      "source": [
        "import torch\n",
        "print(torch.__version__)"
      ]
    },
    {
      "cell_type": "code",
      "source": [
        "#chech if GPU is available\n",
        "if torch.cuda.is_available():\n",
        "  print(\"GPU is available\")\n",
        "  print(f\"Using Google's GPU : {torch.cuda.get_device_name(0)}\")\n",
        "else:\n",
        "  print(\"GPU is not available\")\n",
        "#NVIDIA Tesla T4 GPU has 16 GB of GDDR6 memory."
      ],
      "metadata": {
        "colab": {
          "base_uri": "https://localhost:8080/"
        },
        "id": "UfEEUiVBAga6",
        "outputId": "d22b1284-d6d3-4854-f42c-31250693fcfe"
      },
      "execution_count": null,
      "outputs": [
        {
          "output_type": "stream",
          "name": "stdout",
          "text": [
            "GPU is available\n",
            "Using Google's GPU : Tesla T4\n"
          ]
        }
      ]
    },
    {
      "cell_type": "markdown",
      "source": [
        "### 02_Creating Tensors"
      ],
      "metadata": {
        "id": "1gKhiU7rCu-B"
      }
    },
    {
      "cell_type": "code",
      "source": [
        "#tensors\n",
        "a = torch.tensor([1,2,3])\n",
        "print(a)"
      ],
      "metadata": {
        "colab": {
          "base_uri": "https://localhost:8080/"
        },
        "id": "2kJDxt5fC2vO",
        "outputId": "b3d6b75b-7b4f-4ef8-9a90-807e1ee53463"
      },
      "execution_count": null,
      "outputs": [
        {
          "output_type": "stream",
          "name": "stdout",
          "text": [
            "tensor([1, 2, 3])\n"
          ]
        }
      ]
    },
    {
      "cell_type": "code",
      "source": [
        "#empty tensors\n",
        "empty_tensor = torch.empty(3,2)\n",
        "print(empty_tensor)"
      ],
      "metadata": {
        "colab": {
          "base_uri": "https://localhost:8080/"
        },
        "id": "QSD7RdHyUm65",
        "outputId": "90a76686-e555-4aea-acf4-e4a4ade0da4a"
      },
      "execution_count": null,
      "outputs": [
        {
          "output_type": "stream",
          "name": "stdout",
          "text": [
            "tensor([[1.2744e+04, 0.0000e+00],\n",
            "        [0.0000e+00, 1.5046e-36],\n",
            "        [3.5237e+00, 0.0000e+00]])\n"
          ]
        }
      ]
    },
    {
      "cell_type": "code",
      "source": [
        "#zero tensors\n",
        "c = torch.zeros(3,2)\n",
        "print(c)"
      ],
      "metadata": {
        "colab": {
          "base_uri": "https://localhost:8080/"
        },
        "id": "LwGCuruqDZSd",
        "outputId": "bc242ece-0baa-4ab1-839e-a462591bba52"
      },
      "execution_count": null,
      "outputs": [
        {
          "output_type": "stream",
          "name": "stdout",
          "text": [
            "tensor([[0., 0.],\n",
            "        [0., 0.],\n",
            "        [0., 0.]])\n"
          ]
        }
      ]
    },
    {
      "cell_type": "code",
      "source": [
        "#ones tensor\n",
        "d = torch.ones(3,2)\n",
        "print(d)"
      ],
      "metadata": {
        "colab": {
          "base_uri": "https://localhost:8080/"
        },
        "id": "TLpZu62NDk1E",
        "outputId": "dffc8b7b-7d10-4aa7-cbfa-6fc20ec12c49"
      },
      "execution_count": null,
      "outputs": [
        {
          "output_type": "stream",
          "name": "stdout",
          "text": [
            "tensor([[1., 1.],\n",
            "        [1., 1.],\n",
            "        [1., 1.]])\n"
          ]
        }
      ]
    },
    {
      "cell_type": "code",
      "source": [
        "#random tensor\n",
        "e = torch.rand(3,2)\n",
        "print(e)"
      ],
      "metadata": {
        "id": "n3wJQR0vDutp",
        "colab": {
          "base_uri": "https://localhost:8080/"
        },
        "outputId": "afee26d4-62b3-47f7-c762-6cfd389e9b1a"
      },
      "execution_count": null,
      "outputs": [
        {
          "output_type": "stream",
          "name": "stdout",
          "text": [
            "tensor([[0.7404, 0.0454],\n",
            "        [0.6086, 0.7491],\n",
            "        [0.8111, 0.6258]])\n"
          ]
        }
      ]
    },
    {
      "cell_type": "code",
      "source": [
        "#reproducible tensor\n",
        "torch.manual_seed(42)\n",
        "f = torch.rand(3,2)\n",
        "print(f)"
      ],
      "metadata": {
        "colab": {
          "base_uri": "https://localhost:8080/"
        },
        "id": "gSN_zaqyG56n",
        "outputId": "f0f7d533-4e52-4508-ee21-3ec20359b11e"
      },
      "execution_count": null,
      "outputs": [
        {
          "output_type": "stream",
          "name": "stdout",
          "text": [
            "tensor([[0.8823, 0.9150],\n",
            "        [0.3829, 0.9593],\n",
            "        [0.3904, 0.6009]])\n"
          ]
        }
      ]
    },
    {
      "cell_type": "code",
      "source": [
        "torch.manual_seed(42) #seed will memorize it\n",
        "f = torch.rand(3,2)\n",
        "print(f)"
      ],
      "metadata": {
        "colab": {
          "base_uri": "https://localhost:8080/"
        },
        "id": "BVG-HX6KHJS7",
        "outputId": "a1f90099-4a03-4011-93b5-0749c4f2ab19"
      },
      "execution_count": null,
      "outputs": [
        {
          "output_type": "stream",
          "name": "stdout",
          "text": [
            "tensor([[0.0043, 0.1056],\n",
            "        [0.2858, 0.0270],\n",
            "        [0.4716, 0.0601]])\n"
          ]
        }
      ]
    },
    {
      "cell_type": "code",
      "source": [
        "#custom tensors\n",
        "g = torch.tensor([[1,2,3],[4,5,6]])\n",
        "print(g)\n",
        "type(g)"
      ],
      "metadata": {
        "colab": {
          "base_uri": "https://localhost:8080/"
        },
        "id": "JDXjJjehHLub",
        "outputId": "8f06fd79-931e-43b9-9602-4f52bf66b093"
      },
      "execution_count": null,
      "outputs": [
        {
          "output_type": "stream",
          "name": "stdout",
          "text": [
            "tensor([[1, 2, 3],\n",
            "        [4, 5, 6]])\n"
          ]
        },
        {
          "output_type": "execute_result",
          "data": {
            "text/plain": [
              "torch.Tensor"
            ]
          },
          "metadata": {},
          "execution_count": 7
        }
      ]
    },
    {
      "cell_type": "code",
      "source": [
        "#range\n",
        "h = torch.range(1,5)\n",
        "print(h)"
      ],
      "metadata": {
        "colab": {
          "base_uri": "https://localhost:8080/"
        },
        "id": "O_ZLiE-zHmzS",
        "outputId": "56e9abfe-fac0-4cd9-c68f-58c2b23f5bc9"
      },
      "execution_count": null,
      "outputs": [
        {
          "output_type": "stream",
          "name": "stdout",
          "text": [
            "tensor([1., 2., 3., 4., 5.])\n"
          ]
        },
        {
          "output_type": "stream",
          "name": "stderr",
          "text": [
            "/tmp/ipython-input-3736375639.py:2: UserWarning: torch.range is deprecated and will be removed in a future release because its behavior is inconsistent with Python's range builtin. Instead, use torch.arange, which produces values in [start, end).\n",
            "  h = torch.range(1,5)\n"
          ]
        }
      ]
    },
    {
      "cell_type": "code",
      "source": [
        "i = torch.arange(1,5)\n",
        "print(i)"
      ],
      "metadata": {
        "colab": {
          "base_uri": "https://localhost:8080/"
        },
        "id": "zNQH5C1PH_5D",
        "outputId": "10ece082-273a-46b8-951c-fd971dff893e"
      },
      "execution_count": null,
      "outputs": [
        {
          "output_type": "stream",
          "name": "stdout",
          "text": [
            "tensor([1, 2, 3, 4])\n"
          ]
        }
      ]
    },
    {
      "cell_type": "code",
      "source": [
        "j = torch.arange(1,10,2)\n",
        "print(j)"
      ],
      "metadata": {
        "colab": {
          "base_uri": "https://localhost:8080/"
        },
        "id": "2Ksvagj4IKbO",
        "outputId": "bc546b11-cbe4-4a15-c81c-64573a9d7633"
      },
      "execution_count": null,
      "outputs": [
        {
          "output_type": "stream",
          "name": "stdout",
          "text": [
            "tensor([1, 3, 5, 7, 9])\n"
          ]
        }
      ]
    },
    {
      "cell_type": "code",
      "source": [
        "#arange function\n",
        "k = torch.arange(1,11).reshape(5,2)\n",
        "print(k)"
      ],
      "metadata": {
        "colab": {
          "base_uri": "https://localhost:8080/"
        },
        "id": "Estc33m_ISXG",
        "outputId": "69b75617-fcd5-4ec2-af72-f2412039035b"
      },
      "execution_count": null,
      "outputs": [
        {
          "output_type": "stream",
          "name": "stdout",
          "text": [
            "tensor([[ 1,  2],\n",
            "        [ 3,  4],\n",
            "        [ 5,  6],\n",
            "        [ 7,  8],\n",
            "        [ 9, 10]])\n"
          ]
        }
      ]
    },
    {
      "cell_type": "code",
      "source": [
        "l = torch.zeros_like(k)\n",
        "print(l)"
      ],
      "metadata": {
        "colab": {
          "base_uri": "https://localhost:8080/"
        },
        "id": "oPhNplmVIgaF",
        "outputId": "e227f741-f76c-42f0-eced-6f4598671897"
      },
      "execution_count": null,
      "outputs": [
        {
          "output_type": "stream",
          "name": "stdout",
          "text": [
            "tensor([[0, 0],\n",
            "        [0, 0],\n",
            "        [0, 0],\n",
            "        [0, 0],\n",
            "        [0, 0]])\n"
          ]
        }
      ]
    },
    {
      "cell_type": "code",
      "source": [
        "m = torch.ones_like(k)\n",
        "print(m)"
      ],
      "metadata": {
        "colab": {
          "base_uri": "https://localhost:8080/"
        },
        "id": "srcrm6EkImD0",
        "outputId": "92121846-501c-44cd-d889-0dfca5a2e0c9"
      },
      "execution_count": null,
      "outputs": [
        {
          "output_type": "stream",
          "name": "stdout",
          "text": [
            "tensor([[1, 1],\n",
            "        [1, 1],\n",
            "        [1, 1],\n",
            "        [1, 1],\n",
            "        [1, 1]])\n"
          ]
        }
      ]
    },
    {
      "cell_type": "code",
      "source": [
        "q = torch.empty_like(k)\n",
        "print(q)"
      ],
      "metadata": {
        "colab": {
          "base_uri": "https://localhost:8080/"
        },
        "id": "nPkumiIsKZce",
        "outputId": "3a9bb66a-731c-48b2-cbb1-0b726c08ac6d"
      },
      "execution_count": null,
      "outputs": [
        {
          "output_type": "stream",
          "name": "stdout",
          "text": [
            "tensor([[8027140907415206688, 7018332503360695925],\n",
            "        [3544945581634188140,                 113],\n",
            "        [    137404887539008,           139557024],\n",
            "        [2459029316100385139,        537444691509],\n",
            "        [                  0,                  65]])\n"
          ]
        }
      ]
    },
    {
      "cell_type": "code",
      "source": [
        "#line space\n",
        "n = torch.linspace(1,10,5)\n",
        "print(n)"
      ],
      "metadata": {
        "colab": {
          "base_uri": "https://localhost:8080/"
        },
        "id": "vWjIjmjXIpqj",
        "outputId": "eb375c44-be6c-4b0b-866f-f3ddb4285136"
      },
      "execution_count": null,
      "outputs": [
        {
          "output_type": "stream",
          "name": "stdout",
          "text": [
            "tensor([ 1.0000,  3.2500,  5.5000,  7.7500, 10.0000])\n"
          ]
        }
      ]
    },
    {
      "cell_type": "code",
      "source": [
        "#indentity tensor\n",
        "o = torch.eye(5)\n",
        "print(o)"
      ],
      "metadata": {
        "colab": {
          "base_uri": "https://localhost:8080/"
        },
        "id": "FIKNi2X5IxLx",
        "outputId": "a0568a7f-38b1-448f-f473-cb2b973a55af"
      },
      "execution_count": null,
      "outputs": [
        {
          "output_type": "stream",
          "name": "stdout",
          "text": [
            "tensor([[1., 0., 0., 0., 0.],\n",
            "        [0., 1., 0., 0., 0.],\n",
            "        [0., 0., 1., 0., 0.],\n",
            "        [0., 0., 0., 1., 0.],\n",
            "        [0., 0., 0., 0., 1.]])\n"
          ]
        }
      ]
    },
    {
      "cell_type": "code",
      "source": [
        "#custom shape and same element\n",
        "p = torch.full((4,3),2)\n",
        "print(p)"
      ],
      "metadata": {
        "colab": {
          "base_uri": "https://localhost:8080/"
        },
        "id": "4Sie4Sh0JTrn",
        "outputId": "da8bab2a-edc4-4191-c40d-bccc6199db2d"
      },
      "execution_count": null,
      "outputs": [
        {
          "output_type": "stream",
          "name": "stdout",
          "text": [
            "tensor([[2, 2, 2],\n",
            "        [2, 2, 2],\n",
            "        [2, 2, 2],\n",
            "        [2, 2, 2]])\n"
          ]
        }
      ]
    },
    {
      "cell_type": "code",
      "source": [
        "tensor = torch.full((4,6),6)\n",
        "print(tensor)"
      ],
      "metadata": {
        "colab": {
          "base_uri": "https://localhost:8080/"
        },
        "id": "JNrooATGY6eA",
        "outputId": "90305a16-cdc3-48c1-8cf8-2bf7c64be41c"
      },
      "execution_count": null,
      "outputs": [
        {
          "output_type": "stream",
          "name": "stdout",
          "text": [
            "tensor([[6, 6, 6, 6, 6, 6],\n",
            "        [6, 6, 6, 6, 6, 6],\n",
            "        [6, 6, 6, 6, 6, 6],\n",
            "        [6, 6, 6, 6, 6, 6]])\n"
          ]
        }
      ]
    },
    {
      "cell_type": "markdown",
      "source": [
        "### 03_Tensor shape"
      ],
      "metadata": {
        "id": "Fv1HCYZUJzJf"
      }
    },
    {
      "cell_type": "code",
      "source": [
        "tensor = torch.tensor([[1,2,3],[4,5,6]])\n",
        "print(tensor)"
      ],
      "metadata": {
        "colab": {
          "base_uri": "https://localhost:8080/"
        },
        "id": "uupmWLg2J4eO",
        "outputId": "e5da7e16-6365-4133-c644-3426ebb38a63"
      },
      "execution_count": null,
      "outputs": [
        {
          "output_type": "stream",
          "name": "stdout",
          "text": [
            "tensor([[1, 2, 3],\n",
            "        [4, 5, 6]])\n"
          ]
        }
      ]
    },
    {
      "cell_type": "code",
      "source": [
        "tensor = torch.tensor([[[1,2,3],[4,5,6]],[[7,8,9],[10,11,12]]])\n",
        "print(tensor)"
      ],
      "metadata": {
        "colab": {
          "base_uri": "https://localhost:8080/"
        },
        "id": "IeaecJgvZIQN",
        "outputId": "e7491f13-bd78-45b0-9868-998b207446d1"
      },
      "execution_count": null,
      "outputs": [
        {
          "output_type": "stream",
          "name": "stdout",
          "text": [
            "tensor([[[ 1,  2,  3],\n",
            "         [ 4,  5,  6]],\n",
            "\n",
            "        [[ 7,  8,  9],\n",
            "         [10, 11, 12]]])\n"
          ]
        }
      ]
    },
    {
      "cell_type": "code",
      "source": [
        "tensor.shape"
      ],
      "metadata": {
        "colab": {
          "base_uri": "https://localhost:8080/"
        },
        "id": "veWY6Vs1KEtl",
        "outputId": "db263642-c6d8-4026-dee8-9dc0ebf9a928"
      },
      "execution_count": null,
      "outputs": [
        {
          "output_type": "execute_result",
          "data": {
            "text/plain": [
              "torch.Size([2, 2, 3])"
            ]
          },
          "metadata": {},
          "execution_count": 30
        }
      ]
    },
    {
      "cell_type": "markdown",
      "source": [
        "### 04_Tensor data types"
      ],
      "metadata": {
        "id": "IQgPPmZtKxgn"
      }
    },
    {
      "cell_type": "code",
      "source": [
        "v = torch.tensor([1,2,3,4,5])\n",
        "print(v)"
      ],
      "metadata": {
        "colab": {
          "base_uri": "https://localhost:8080/"
        },
        "id": "2J_475ZGK26Y",
        "outputId": "e881ea7c-fe46-427c-b276-8dc1e7541762"
      },
      "execution_count": null,
      "outputs": [
        {
          "output_type": "stream",
          "name": "stdout",
          "text": [
            "tensor([1, 2, 3, 4, 5])\n"
          ]
        }
      ]
    },
    {
      "cell_type": "code",
      "source": [
        "v.dtype"
      ],
      "metadata": {
        "colab": {
          "base_uri": "https://localhost:8080/"
        },
        "id": "_znCKTibLHQ5",
        "outputId": "87711235-1d30-43a1-b9dc-b5027f74c702"
      },
      "execution_count": null,
      "outputs": [
        {
          "output_type": "execute_result",
          "data": {
            "text/plain": [
              "torch.int64"
            ]
          },
          "metadata": {},
          "execution_count": 25
        }
      ]
    },
    {
      "cell_type": "code",
      "source": [
        "x = torch.tensor([[1,2,3],[5,6,7]], dtype=torch.float32)\n",
        "print(x)"
      ],
      "metadata": {
        "colab": {
          "base_uri": "https://localhost:8080/"
        },
        "id": "kGtDWoyHLNBD",
        "outputId": "9ea43c7b-370d-42ae-e407-856d8a8bd91f"
      },
      "execution_count": null,
      "outputs": [
        {
          "output_type": "stream",
          "name": "stdout",
          "text": [
            "tensor([[1., 2., 3.],\n",
            "        [5., 6., 7.]])\n"
          ]
        }
      ]
    },
    {
      "cell_type": "code",
      "source": [
        "y = torch.rand_like(x)\n",
        "print(y)"
      ],
      "metadata": {
        "colab": {
          "base_uri": "https://localhost:8080/"
        },
        "id": "Gbxvp4ADLYFI",
        "outputId": "4888023c-10af-496d-f9bf-9e0b03479094"
      },
      "execution_count": null,
      "outputs": [
        {
          "output_type": "stream",
          "name": "stdout",
          "text": [
            "tensor([[0.2666, 0.6274, 0.2696],\n",
            "        [0.4414, 0.2969, 0.8317]])\n"
          ]
        }
      ]
    },
    {
      "cell_type": "code",
      "source": [
        "y.dtype"
      ],
      "metadata": {
        "colab": {
          "base_uri": "https://localhost:8080/"
        },
        "id": "Qh_uhRPqLvtG",
        "outputId": "15700e03-6e63-4218-b138-1d21612b4810"
      },
      "execution_count": null,
      "outputs": [
        {
          "output_type": "execute_result",
          "data": {
            "text/plain": [
              "torch.float32"
            ]
          },
          "metadata": {},
          "execution_count": 34
        }
      ]
    },
    {
      "cell_type": "code",
      "source": [
        "y.to(torch.int32)"
      ],
      "metadata": {
        "colab": {
          "base_uri": "https://localhost:8080/"
        },
        "id": "p7Bt1eqMLyev",
        "outputId": "a6a45dfa-1fd2-45e3-e616-ec4864c02f25"
      },
      "execution_count": null,
      "outputs": [
        {
          "output_type": "execute_result",
          "data": {
            "text/plain": [
              "tensor([[0, 0, 0],\n",
              "        [0, 0, 0]], dtype=torch.int32)"
            ]
          },
          "metadata": {},
          "execution_count": 35
        }
      ]
    },
    {
      "cell_type": "code",
      "source": [
        "y.dtype"
      ],
      "metadata": {
        "colab": {
          "base_uri": "https://localhost:8080/"
        },
        "id": "Gg62qUAFL97e",
        "outputId": "1b390000-ab12-4b20-fbc8-b396d543ca0c"
      },
      "execution_count": null,
      "outputs": [
        {
          "output_type": "execute_result",
          "data": {
            "text/plain": [
              "torch.float32"
            ]
          },
          "metadata": {},
          "execution_count": 36
        }
      ]
    },
    {
      "cell_type": "markdown",
      "source": [
        "### 05_Mathematical operations"
      ],
      "metadata": {
        "id": "rYrCkkQHMRJD"
      }
    },
    {
      "cell_type": "code",
      "source": [
        "tensor = torch.tensor([[1,2,3,4],[5,6,7,8]])\n",
        "print(tensor)"
      ],
      "metadata": {
        "colab": {
          "base_uri": "https://localhost:8080/"
        },
        "id": "cUru_yada55r",
        "outputId": "0e1a4dcd-d1d6-47fa-81b8-f2c24366092a"
      },
      "execution_count": null,
      "outputs": [
        {
          "output_type": "stream",
          "name": "stdout",
          "text": [
            "tensor([[1, 2, 3, 4],\n",
            "        [5, 6, 7, 8]])\n"
          ]
        }
      ]
    },
    {
      "cell_type": "code",
      "source": [
        "tensor.to(torch.int32)"
      ],
      "metadata": {
        "id": "PEGnrwppMYmt",
        "colab": {
          "base_uri": "https://localhost:8080/"
        },
        "outputId": "5dbcc650-d9fd-4de1-bd06-c6afc447c723"
      },
      "execution_count": null,
      "outputs": [
        {
          "output_type": "execute_result",
          "data": {
            "text/plain": [
              "tensor([[1, 2, 3, 4],\n",
              "        [5, 6, 7, 8]], dtype=torch.int32)"
            ]
          },
          "metadata": {},
          "execution_count": 41
        }
      ]
    },
    {
      "cell_type": "code",
      "source": [
        "sum = tensor + 2\n",
        "print(sum)"
      ],
      "metadata": {
        "colab": {
          "base_uri": "https://localhost:8080/"
        },
        "id": "Yb9ntNTFfPO8",
        "outputId": "1611a030-f8ec-439c-d15a-23b0f58001a0"
      },
      "execution_count": null,
      "outputs": [
        {
          "output_type": "stream",
          "name": "stdout",
          "text": [
            "tensor([[ 3,  4,  5,  6],\n",
            "        [ 7,  8,  9, 10]])\n"
          ]
        }
      ]
    },
    {
      "cell_type": "code",
      "source": [
        "sub = tensor - 1\n",
        "print(sub)"
      ],
      "metadata": {
        "colab": {
          "base_uri": "https://localhost:8080/"
        },
        "id": "zGEDqP6wfeVc",
        "outputId": "e703917d-59b2-4f88-8aa0-5cde6eef6ced"
      },
      "execution_count": null,
      "outputs": [
        {
          "output_type": "stream",
          "name": "stdout",
          "text": [
            "tensor([[0, 1, 2, 3],\n",
            "        [4, 5, 6, 7]])\n"
          ]
        }
      ]
    },
    {
      "cell_type": "code",
      "source": [
        "mul = tensor * 2\n",
        "print(mul)"
      ],
      "metadata": {
        "colab": {
          "base_uri": "https://localhost:8080/"
        },
        "id": "YuHRBPkZgEv7",
        "outputId": "896fa211-4573-4e17-dc93-00646297a11a"
      },
      "execution_count": null,
      "outputs": [
        {
          "output_type": "stream",
          "name": "stdout",
          "text": [
            "tensor([[ 2,  4,  6,  8],\n",
            "        [10, 12, 14, 16]])\n"
          ]
        }
      ]
    },
    {
      "cell_type": "code",
      "source": [
        "div = tensor/3\n",
        "print(div)"
      ],
      "metadata": {
        "colab": {
          "base_uri": "https://localhost:8080/"
        },
        "id": "z46eXBiXgOTG",
        "outputId": "562cd101-5870-4222-e278-ef587ac113dd"
      },
      "execution_count": null,
      "outputs": [
        {
          "output_type": "stream",
          "name": "stdout",
          "text": [
            "tensor([[0.3333, 0.6667, 1.0000, 1.3333],\n",
            "        [1.6667, 2.0000, 2.3333, 2.6667]])\n"
          ]
        }
      ]
    },
    {
      "cell_type": "code",
      "source": [
        "int_div = tensor//2\n",
        "print(int_div)"
      ],
      "metadata": {
        "colab": {
          "base_uri": "https://localhost:8080/"
        },
        "id": "WRZ8sNBpggTq",
        "outputId": "fbdc7df3-39a9-4d09-a442-212a98db3081"
      },
      "execution_count": null,
      "outputs": [
        {
          "output_type": "stream",
          "name": "stdout",
          "text": [
            "tensor([[0, 1, 1, 2],\n",
            "        [2, 3, 3, 4]])\n"
          ]
        }
      ]
    },
    {
      "cell_type": "code",
      "source": [
        "mode = tensor%2\n",
        "print(mode)"
      ],
      "metadata": {
        "colab": {
          "base_uri": "https://localhost:8080/"
        },
        "id": "1CwzS1V5gyQ6",
        "outputId": "ea6abb08-6248-491f-d983-b2fd3b5059c5"
      },
      "execution_count": null,
      "outputs": [
        {
          "output_type": "stream",
          "name": "stdout",
          "text": [
            "tensor([[1, 0, 1, 0],\n",
            "        [1, 0, 1, 0]])\n"
          ]
        }
      ]
    },
    {
      "cell_type": "code",
      "source": [
        "pow = tensor**2\n",
        "print(pow)"
      ],
      "metadata": {
        "colab": {
          "base_uri": "https://localhost:8080/"
        },
        "id": "o11suuyhhA8c",
        "outputId": "3f5dfd0b-cebe-469a-fcb7-07a49bb430c9"
      },
      "execution_count": null,
      "outputs": [
        {
          "output_type": "stream",
          "name": "stdout",
          "text": [
            "tensor([[ 1,  4,  9, 16],\n",
            "        [25, 36, 49, 64]])\n"
          ]
        }
      ]
    },
    {
      "cell_type": "markdown",
      "source": [
        "### 06_Mathematical Operations on two tensors"
      ],
      "metadata": {
        "id": "OrPfzevKhaWJ"
      }
    },
    {
      "cell_type": "code",
      "source": [
        "#Creating two new tensors\n",
        "tensor1 = torch.rand(4,3)\n",
        "tensor2 = torch.rand(4,3)\n",
        "print(tensor1)\n",
        "print(tensor2)"
      ],
      "metadata": {
        "colab": {
          "base_uri": "https://localhost:8080/"
        },
        "id": "H8HcxjWJhuCK",
        "outputId": "b5906b2e-de57-463e-dbba-22c3cf76a522"
      },
      "execution_count": null,
      "outputs": [
        {
          "output_type": "stream",
          "name": "stdout",
          "text": [
            "tensor([[0.7719, 0.7437, 0.5944],\n",
            "        [0.8879, 0.4510, 0.7995],\n",
            "        [0.1498, 0.4015, 0.0542],\n",
            "        [0.4594, 0.1756, 0.9492]])\n",
            "tensor([[0.8473, 0.8749, 0.6483],\n",
            "        [0.2148, 0.9493, 0.0121],\n",
            "        [0.1809, 0.1877, 0.2927],\n",
            "        [0.5997, 0.1213, 0.1148]])\n"
          ]
        }
      ]
    },
    {
      "cell_type": "code",
      "source": [
        "sum = tensor1 + tensor2\n",
        "print(sum)"
      ],
      "metadata": {
        "colab": {
          "base_uri": "https://localhost:8080/"
        },
        "id": "KS5T4Hrfh830",
        "outputId": "2d9d57a2-2e78-4bc9-8f17-b8cb1ebc1217"
      },
      "execution_count": null,
      "outputs": [
        {
          "output_type": "stream",
          "name": "stdout",
          "text": [
            "tensor([[1.6192, 1.6186, 1.2427],\n",
            "        [1.1026, 1.4003, 0.8116],\n",
            "        [0.3307, 0.5892, 0.3469],\n",
            "        [1.0591, 0.2969, 1.0640]])\n"
          ]
        }
      ]
    },
    {
      "cell_type": "code",
      "source": [
        "tensor3 = torch.tensor([[1.2,-2.5,-3.4],[4.6,-5.7,6.7]])\n",
        "print(tensor3)"
      ],
      "metadata": {
        "colab": {
          "base_uri": "https://localhost:8080/"
        },
        "id": "CsiUlwmiiXix",
        "outputId": "4f0946e3-7ee6-4cd5-c8c9-339ebf1cd71f"
      },
      "execution_count": null,
      "outputs": [
        {
          "output_type": "stream",
          "name": "stdout",
          "text": [
            "tensor([[ 1.2000, -2.5000, -3.4000],\n",
            "        [ 4.6000, -5.7000,  6.7000]])\n"
          ]
        }
      ]
    },
    {
      "cell_type": "code",
      "source": [
        "#Absolute value\n",
        "torch.abs(tensor3)"
      ],
      "metadata": {
        "colab": {
          "base_uri": "https://localhost:8080/"
        },
        "id": "fTdHAxa-ijay",
        "outputId": "ebb8579a-7306-46ed-c58e-f0409b31d9cc"
      },
      "execution_count": null,
      "outputs": [
        {
          "output_type": "execute_result",
          "data": {
            "text/plain": [
              "tensor([[1.2000, 2.5000, 3.4000],\n",
              "        [4.6000, 5.7000, 6.7000]])"
            ]
          },
          "metadata": {},
          "execution_count": 62
        }
      ]
    },
    {
      "cell_type": "code",
      "source": [
        "#Round of\n",
        "torch.round(tensor3)"
      ],
      "metadata": {
        "colab": {
          "base_uri": "https://localhost:8080/"
        },
        "id": "HNjEwd9AjUPI",
        "outputId": "43da3951-c8cc-47fb-a505-b036562b16f1"
      },
      "execution_count": null,
      "outputs": [
        {
          "output_type": "execute_result",
          "data": {
            "text/plain": [
              "tensor([[ 1., -2., -3.],\n",
              "        [ 5., -6.,  7.]])"
            ]
          },
          "metadata": {},
          "execution_count": 65
        }
      ]
    },
    {
      "cell_type": "code",
      "source": [
        "#Ceil : round of to next integer\n",
        "torch.ceil(tensor3)"
      ],
      "metadata": {
        "colab": {
          "base_uri": "https://localhost:8080/"
        },
        "id": "65WtHL88kSVJ",
        "outputId": "436dcf36-bd42-46e4-9d7a-924c9841a66e"
      },
      "execution_count": null,
      "outputs": [
        {
          "output_type": "execute_result",
          "data": {
            "text/plain": [
              "tensor([[ 2., -2., -3.],\n",
              "        [ 5., -5.,  7.]])"
            ]
          },
          "metadata": {},
          "execution_count": 66
        }
      ]
    },
    {
      "cell_type": "code",
      "source": [
        "# floor : round of to previous term\n",
        "torch.floor(tensor3)"
      ],
      "metadata": {
        "colab": {
          "base_uri": "https://localhost:8080/"
        },
        "id": "7C5WyR_okdSY",
        "outputId": "dd58bbb4-184a-4787-d85c-d3892181b116"
      },
      "execution_count": null,
      "outputs": [
        {
          "output_type": "execute_result",
          "data": {
            "text/plain": [
              "tensor([[ 1., -3., -4.],\n",
              "        [ 4., -6.,  6.]])"
            ]
          },
          "metadata": {},
          "execution_count": 67
        }
      ]
    },
    {
      "cell_type": "code",
      "source": [
        "#Clamp : to bring all elements of the tensor in a range\n",
        "torch.clamp(tensor3, min=-0.5, max=0.5)"
      ],
      "metadata": {
        "colab": {
          "base_uri": "https://localhost:8080/"
        },
        "id": "SdAheYcQku0k",
        "outputId": "5acb3d71-e29d-4a13-bc9e-5b15bf9b4bc1"
      },
      "execution_count": null,
      "outputs": [
        {
          "output_type": "execute_result",
          "data": {
            "text/plain": [
              "tensor([[ 0.5000, -0.5000, -0.5000],\n",
              "        [ 0.5000, -0.5000,  0.5000]])"
            ]
          },
          "metadata": {},
          "execution_count": 68
        }
      ]
    },
    {
      "cell_type": "markdown",
      "source": [
        "### 07_Statistical Operations"
      ],
      "metadata": {
        "id": "XKae3DtzlIVE"
      }
    },
    {
      "cell_type": "code",
      "source": [
        "#sum of the tensor\n",
        "torch.sum(tensor3)"
      ],
      "metadata": {
        "colab": {
          "base_uri": "https://localhost:8080/"
        },
        "id": "qOVeoBJblH5F",
        "outputId": "7abf3bc9-29c5-4c9f-9f44-59432560c41a"
      },
      "execution_count": null,
      "outputs": [
        {
          "output_type": "execute_result",
          "data": {
            "text/plain": [
              "tensor(0.9000)"
            ]
          },
          "metadata": {},
          "execution_count": 69
        }
      ]
    }
  ]
}